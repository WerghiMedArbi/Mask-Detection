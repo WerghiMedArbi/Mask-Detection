{
 "cells": [
  {
   "cell_type": "code",
   "execution_count": null,
   "metadata": {},
   "outputs": [],
   "source": [
    "import cv2, os"
   ]
  },
  {
   "attachments": {},
   "cell_type": "markdown",
   "metadata": {},
   "source": [
    "put the path of the dataset"
   ]
  },
  {
   "cell_type": "code",
   "execution_count": null,
   "metadata": {},
   "outputs": [],
   "source": [
    "path_for_data = ''\n",
    "categories = os.listdir(path_for_data)\n",
    "labels = [i for i in range (len(categories))]\n",
    "\n",
    "label_dict = dict(zip(categories, labels))\n",
    "print(label_dict)\n",
    "print(categories)\n",
    "print(labels)"
   ]
  },
  {
   "cell_type": "code",
   "execution_count": null,
   "metadata": {},
   "outputs": [],
   "source": [
    "img_size = 120\n",
    "data = []\n",
    "target = []\n",
    "\n",
    "for category in categories:\n",
    "     folder_path = os.path.join(path_for_data, category)\n",
    "     img_names = os.listdir(folder_path)\n",
    "     for img_name in img_names:\n",
    "            img_path = os.path.join(folder_path, img_name)\n",
    "                    \n",
    "            img = cv2.imread(img_path)\n",
    "            \n",
    "            try:\n",
    "                gray = cv2.cvtColor(img, cv2.COLOR_BGR2GRAY)\n",
    "                \n",
    "                resized = cv2.resize(gray, (img_size, img_size))\n",
    "                \n",
    "                data.append(resized)\n",
    "                \n",
    "                target.append(label_dict[category])\n",
    "            except Exception as e:\n",
    "                print('Exception',e)\n",
    "                \n",
    "                \n",
    "            \n",
    "       \n",
    "     \n",
    "     "
   ]
  },
  {
   "cell_type": "code",
   "execution_count": null,
   "metadata": {},
   "outputs": [],
   "source": [
    "import numpy as np\n",
    "data = np.array(data)/255.0\n",
    "data = np.reshape(data,(data.shape[0], img_size,img_size,1))\n",
    "\n",
    "target = np.array(target)\n",
    "\n",
    "\n",
    "from keras.utils import np_utils\n",
    "new_target = np_utils.to_categorical(target)\n",
    "\n",
    "\n"
   ]
  },
  {
   "cell_type": "code",
   "execution_count": null,
   "metadata": {},
   "outputs": [],
   "source": [
    "np.save('data', data)\n",
    "\n",
    "np.save('target', new_target)"
   ]
  },
  {
   "cell_type": "code",
   "execution_count": null,
   "metadata": {},
   "outputs": [],
   "source": [
    "import numpy as np\n",
    "from keras.models import Sequential\n",
    "from keras.layers import Dense,Activation,Flatten,Dropout\n",
    "from keras.layers import Conv2D,MaxPooling2D\n",
    "from keras.callbacks import ModelCheckpoint\n",
    "from sklearn.model_selection import train_test_split\n",
    "\n",
    "data=np.load('data.npy')\n",
    "target=np.load('target.npy')\n",
    "\n",
    "model=Sequential()\n",
    "\n",
    "model.add(Conv2D(100,(3,3),input_shape=data.shape[1:]))\n",
    "model.add(Activation('relu'))\n",
    "model.add(MaxPooling2D(pool_size=(2,2)))\n",
    "model.add(Conv2D(100,(3,3)))\n",
    "model.add(Activation('relu'))\n",
    "model.add(MaxPooling2D(pool_size=(2,2)))\n",
    "model.add(Flatten())\n",
    "model.add(Dropout(0.5))\n",
    "model.add(Dense(50,activation='relu'))\n",
    "model.add(Dense(2,activation='softmax'))\n",
    "\n",
    "model.compile(loss='binary_crossentropy',optimizer='adam',metrics=['accuracy'])\n"
   ]
  },
  {
   "cell_type": "code",
   "execution_count": null,
   "metadata": {},
   "outputs": [],
   "source": [
    "\n",
    "train_data,test_data,train_target,test_target=train_test_split(data,target,test_size=0.1)\n",
    "\n",
    "checkpoint = ModelCheckpoint(\n",
    "  'model-{epoch:03d}.model',\n",
    "  monitor='val_loss',\n",
    "  verbose=0,\n",
    "  save_best_only=True,\n",
    "  mode='auto')\n",
    "\n",
    "history=model.fit(\n",
    "  train_data,\n",
    "  train_target,\n",
    "  epochs=20,\n",
    "  callbacks=[checkpoint],\n",
    "  validation_split=0.2)\n",
    "\n",
    "print(model.evaluate(test_data,test_target))"
   ]
  }
 ],
 "metadata": {
  "kernelspec": {
   "display_name": "base",
   "language": "python",
   "name": "python3"
  },
  "language_info": {
   "codemirror_mode": {
    "name": "ipython",
    "version": 3
   },
   "file_extension": ".py",
   "mimetype": "text/x-python",
   "name": "python",
   "nbconvert_exporter": "python",
   "pygments_lexer": "ipython3",
   "version": "3.8.5"
  },
  "vscode": {
   "interpreter": {
    "hash": "e7364bacd20ca9013b42d210636ae4ae817f2b2d12f504ab49d941f1d7aadcc0"
   }
  }
 },
 "nbformat": 4,
 "nbformat_minor": 4
}
